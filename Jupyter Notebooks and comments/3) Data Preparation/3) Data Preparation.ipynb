{
 "cells": [
  {
   "cell_type": "markdown",
   "id": "2b1a3f65",
   "metadata": {},
   "source": [
    "# Goal\n",
    "### Clean and preprocess the collected data to remove errors, handle missing values, and transform it into a suitable format for analysis. \n",
    "**Tasks**: data cleaning, data integration, data transformation etc"
   ]
  }
 ],
 "metadata": {
  "kernelspec": {
   "display_name": "Python 3 (ipykernel)",
   "language": "python",
   "name": "python3"
  },
  "language_info": {
   "codemirror_mode": {
    "name": "ipython",
    "version": 3
   },
   "file_extension": ".py",
   "mimetype": "text/x-python",
   "name": "python",
   "nbconvert_exporter": "python",
   "pygments_lexer": "ipython3",
   "version": "3.11.2"
  }
 },
 "nbformat": 4,
 "nbformat_minor": 5
}
