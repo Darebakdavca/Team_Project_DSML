{
 "cells": [
  {
   "cell_type": "markdown",
   "id": "2b1a3f65",
   "metadata": {},
   "source": [
    "# Goal\n",
    "### Clean and preprocess the collected data to remove errors, handle missing values, and transform it into a suitable format for analysis. \n",
    "**Tasks**: data cleaning, data integration, data transformation etc"
   ]
  },
  {
   "cell_type": "code",
   "execution_count": 15,
   "id": "cd733b77",
   "metadata": {},
   "outputs": [
    {
     "data": {
      "text/html": [
       "<div>\n",
       "<style scoped>\n",
       "    .dataframe tbody tr th:only-of-type {\n",
       "        vertical-align: middle;\n",
       "    }\n",
       "\n",
       "    .dataframe tbody tr th {\n",
       "        vertical-align: top;\n",
       "    }\n",
       "\n",
       "    .dataframe thead th {\n",
       "        text-align: right;\n",
       "    }\n",
       "</style>\n",
       "<table border=\"1\" class=\"dataframe\">\n",
       "  <thead>\n",
       "    <tr style=\"text-align: right;\">\n",
       "      <th></th>\n",
       "      <th>start_time</th>\n",
       "      <th>end_time</th>\n",
       "      <th>start_station_id</th>\n",
       "      <th>start_station_lat</th>\n",
       "      <th>start_station_lon</th>\n",
       "      <th>end_station_id</th>\n",
       "      <th>end_station_lat</th>\n",
       "      <th>end_station_lon</th>\n",
       "      <th>bike_id</th>\n",
       "    </tr>\n",
       "  </thead>\n",
       "  <tbody>\n",
       "    <tr>\n",
       "      <th>0</th>\n",
       "      <td>Date: 26/04/18; Time: 18:04:41</td>\n",
       "      <td>Date: 26/04/18; Time: 18:10:07</td>\n",
       "      <td>11.0</td>\n",
       "      <td>37.79728</td>\n",
       "      <td>-122.398436</td>\n",
       "      <td>6.0</td>\n",
       "      <td>37.80477</td>\n",
       "      <td>-122.403234</td>\n",
       "      <td>2530.0</td>\n",
       "    </tr>\n",
       "    <tr>\n",
       "      <th>1</th>\n",
       "      <td>Date: 18/05/18; Time: 19:34:12</td>\n",
       "      <td>Date: 18/05/18; Time: 19:37:57</td>\n",
       "      <td>64.0</td>\n",
       "      <td>37.7767539</td>\n",
       "      <td>-122.3990176</td>\n",
       "      <td>321.0</td>\n",
       "      <td>37.7801457035</td>\n",
       "      <td>-122.4030708524</td>\n",
       "      <td>3643.0</td>\n",
       "    </tr>\n",
       "    <tr>\n",
       "      <th>2</th>\n",
       "      <td>Date: 14/07/18; Time: 14:57:05</td>\n",
       "      <td>Date: 14/07/18; Time: 15:10:37</td>\n",
       "      <td>70.0</td>\n",
       "      <td>37.7733108789</td>\n",
       "      <td>-122.4442926049</td>\n",
       "      <td>109.0</td>\n",
       "      <td>37.7633158</td>\n",
       "      <td>-122.4219039</td>\n",
       "      <td>1964.0</td>\n",
       "    </tr>\n",
       "    <tr>\n",
       "      <th>3</th>\n",
       "      <td>Date: 11/11/18; Time: 16:35:22</td>\n",
       "      <td>Date: 11/11/18; Time: 16:45:37</td>\n",
       "      <td>160.0</td>\n",
       "      <td>37.8053183</td>\n",
       "      <td>-122.2948365</td>\n",
       "      <td>220.0</td>\n",
       "      <td>37.8113514</td>\n",
       "      <td>-122.2734217</td>\n",
       "      <td>3580.0</td>\n",
       "    </tr>\n",
       "    <tr>\n",
       "      <th>4</th>\n",
       "      <td>Date: 15/12/18; Time: 10:15:24</td>\n",
       "      <td>Date: 15/12/18; Time: 10:20:23</td>\n",
       "      <td>72.0</td>\n",
       "      <td>37.772406</td>\n",
       "      <td>-122.4356498</td>\n",
       "      <td>119.0</td>\n",
       "      <td>37.7610471</td>\n",
       "      <td>-122.4326417</td>\n",
       "      <td>5247.0</td>\n",
       "    </tr>\n",
       "  </tbody>\n",
       "</table>\n",
       "</div>"
      ],
      "text/plain": [
       "                       start_time                        end_time  \\\n",
       "0  Date: 26/04/18; Time: 18:04:41  Date: 26/04/18; Time: 18:10:07   \n",
       "1  Date: 18/05/18; Time: 19:34:12  Date: 18/05/18; Time: 19:37:57   \n",
       "2  Date: 14/07/18; Time: 14:57:05  Date: 14/07/18; Time: 15:10:37   \n",
       "3  Date: 11/11/18; Time: 16:35:22  Date: 11/11/18; Time: 16:45:37   \n",
       "4  Date: 15/12/18; Time: 10:15:24  Date: 15/12/18; Time: 10:20:23   \n",
       "\n",
       "  start_station_id start_station_lat start_station_lon end_station_id  \\\n",
       "0             11.0          37.79728       -122.398436            6.0   \n",
       "1             64.0        37.7767539      -122.3990176          321.0   \n",
       "2             70.0     37.7733108789   -122.4442926049          109.0   \n",
       "3            160.0        37.8053183      -122.2948365          220.0   \n",
       "4             72.0         37.772406      -122.4356498          119.0   \n",
       "\n",
       "  end_station_lat  end_station_lon bike_id  \n",
       "0        37.80477      -122.403234  2530.0  \n",
       "1   37.7801457035  -122.4030708524  3643.0  \n",
       "2      37.7633158     -122.4219039  1964.0  \n",
       "3      37.8113514     -122.2734217  3580.0  \n",
       "4      37.7610471     -122.4326417  5247.0  "
      ]
     },
     "execution_count": 15,
     "metadata": {},
     "output_type": "execute_result"
    }
   ],
   "source": [
    "import pandas as pd\n",
    "\n",
    "baywheels2018_df = pd.read_csv('baywheels_2018', low_memory=False, index_col=0)\n",
    "baywheels2018_df.head()"
   ]
  },
  {
   "cell_type": "code",
   "execution_count": 14,
   "id": "2cb0773d",
   "metadata": {},
   "outputs": [
    {
     "data": {
      "text/plain": [
       "start_time           object\n",
       "end_time             object\n",
       "start_station_id     object\n",
       "start_station_lat    object\n",
       "start_station_lon    object\n",
       "end_station_id       object\n",
       "end_station_lat      object\n",
       "end_station_lon      object\n",
       "bike_id              object\n",
       "dtype: object"
      ]
     },
     "execution_count": 14,
     "metadata": {},
     "output_type": "execute_result"
    }
   ],
   "source": [
    "baywheels2018_df.dtypes"
   ]
  }
 ],
 "metadata": {
  "kernelspec": {
   "display_name": "Python 3 (ipykernel)",
   "language": "python",
   "name": "python3"
  },
  "language_info": {
   "codemirror_mode": {
    "name": "ipython",
    "version": 3
   },
   "file_extension": ".py",
   "mimetype": "text/x-python",
   "name": "python",
   "nbconvert_exporter": "python",
   "pygments_lexer": "ipython3",
   "version": "3.11.2"
  }
 },
 "nbformat": 4,
 "nbformat_minor": 5
}
