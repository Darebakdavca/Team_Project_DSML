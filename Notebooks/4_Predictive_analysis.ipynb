{
 "cells": [
  {
   "cell_type": "markdown",
   "id": "1e3b21b0",
   "metadata": {},
   "source": [
    "# Goal\n",
    "### Create suitable categorical variables, choose most significant variables, choose two prediction models and and pick the best one"
   ]
  },
  {
   "cell_type": "code",
   "execution_count": null,
   "id": "74c008d2",
   "metadata": {},
   "outputs": [],
   "source": [
    "import pandas as pd\n",
    "import numpy as np\n",
    "baywh"
   ]
  }
 ],
 "metadata": {
  "kernelspec": {
   "display_name": "Python 3 (ipykernel)",
   "language": "python",
   "name": "python3"
  },
  "language_info": {
   "codemirror_mode": {
    "name": "ipython",
    "version": 3
   },
   "file_extension": ".py",
   "mimetype": "text/x-python",
   "name": "python",
   "nbconvert_exporter": "python",
   "pygments_lexer": "ipython3",
   "version": "3.10.10"
  }
 },
 "nbformat": 4,
 "nbformat_minor": 5
}
